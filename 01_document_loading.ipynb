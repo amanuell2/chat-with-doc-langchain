{
 "cells": [
  {
   "cell_type": "code",
   "execution_count": 43,
   "metadata": {},
   "outputs": [
    {
     "name": "stdout",
     "output_type": "stream",
     "text": [
      "Requirement already satisfied: langchain in /opt/anaconda3/lib/python3.11/site-packages (0.2.12)\n",
      "Requirement already satisfied: PyYAML>=5.3 in /opt/anaconda3/lib/python3.11/site-packages (from langchain) (6.0.1)\n",
      "Requirement already satisfied: SQLAlchemy<3,>=1.4 in /opt/anaconda3/lib/python3.11/site-packages (from langchain) (2.0.30)\n",
      "Requirement already satisfied: aiohttp<4.0.0,>=3.8.3 in /opt/anaconda3/lib/python3.11/site-packages (from langchain) (3.9.3)\n",
      "Requirement already satisfied: langchain-core<0.3.0,>=0.2.27 in /opt/anaconda3/lib/python3.11/site-packages (from langchain) (0.2.33)\n",
      "Requirement already satisfied: langchain-text-splitters<0.3.0,>=0.2.0 in /opt/anaconda3/lib/python3.11/site-packages (from langchain) (0.2.2)\n",
      "Requirement already satisfied: langsmith<0.2.0,>=0.1.17 in /opt/anaconda3/lib/python3.11/site-packages (from langchain) (0.1.82)\n",
      "Requirement already satisfied: numpy<2,>=1 in /opt/anaconda3/lib/python3.11/site-packages (from langchain) (1.26.4)\n",
      "Requirement already satisfied: pydantic<3,>=1 in /opt/anaconda3/lib/python3.11/site-packages (from langchain) (2.8.2)\n",
      "Requirement already satisfied: requests<3,>=2 in /opt/anaconda3/lib/python3.11/site-packages (from langchain) (2.31.0)\n",
      "Requirement already satisfied: tenacity!=8.4.0,<9.0.0,>=8.1.0 in /opt/anaconda3/lib/python3.11/site-packages (from langchain) (8.3.0)\n",
      "Requirement already satisfied: aiosignal>=1.1.2 in /opt/anaconda3/lib/python3.11/site-packages (from aiohttp<4.0.0,>=3.8.3->langchain) (1.2.0)\n",
      "Requirement already satisfied: attrs>=17.3.0 in /opt/anaconda3/lib/python3.11/site-packages (from aiohttp<4.0.0,>=3.8.3->langchain) (23.2.0)\n",
      "Requirement already satisfied: frozenlist>=1.1.1 in /opt/anaconda3/lib/python3.11/site-packages (from aiohttp<4.0.0,>=3.8.3->langchain) (1.4.0)\n",
      "Requirement already satisfied: multidict<7.0,>=4.5 in /opt/anaconda3/lib/python3.11/site-packages (from aiohttp<4.0.0,>=3.8.3->langchain) (6.0.4)\n",
      "Requirement already satisfied: yarl<2.0,>=1.0 in /opt/anaconda3/lib/python3.11/site-packages (from aiohttp<4.0.0,>=3.8.3->langchain) (1.9.3)\n",
      "Requirement already satisfied: jsonpatch<2.0,>=1.33 in /opt/anaconda3/lib/python3.11/site-packages (from langchain-core<0.3.0,>=0.2.27->langchain) (1.33)\n",
      "Requirement already satisfied: packaging<25,>=23.2 in /opt/anaconda3/lib/python3.11/site-packages (from langchain-core<0.3.0,>=0.2.27->langchain) (23.2)\n",
      "Requirement already satisfied: typing-extensions>=4.7 in /opt/anaconda3/lib/python3.11/site-packages (from langchain-core<0.3.0,>=0.2.27->langchain) (4.12.2)\n",
      "Requirement already satisfied: orjson<4.0.0,>=3.9.14 in /opt/anaconda3/lib/python3.11/site-packages (from langsmith<0.2.0,>=0.1.17->langchain) (3.10.3)\n",
      "Requirement already satisfied: annotated-types>=0.4.0 in /opt/anaconda3/lib/python3.11/site-packages (from pydantic<3,>=1->langchain) (0.6.0)\n",
      "Requirement already satisfied: pydantic-core==2.20.1 in /opt/anaconda3/lib/python3.11/site-packages (from pydantic<3,>=1->langchain) (2.20.1)\n",
      "Requirement already satisfied: charset-normalizer<4,>=2 in /opt/anaconda3/lib/python3.11/site-packages (from requests<3,>=2->langchain) (3.3.2)\n",
      "Requirement already satisfied: idna<4,>=2.5 in /opt/anaconda3/lib/python3.11/site-packages (from requests<3,>=2->langchain) (3.4)\n",
      "Requirement already satisfied: urllib3<3,>=1.21.1 in /opt/anaconda3/lib/python3.11/site-packages (from requests<3,>=2->langchain) (2.0.7)\n",
      "Requirement already satisfied: certifi>=2017.4.17 in /opt/anaconda3/lib/python3.11/site-packages (from requests<3,>=2->langchain) (2024.2.2)\n",
      "Requirement already satisfied: jsonpointer>=1.9 in /opt/anaconda3/lib/python3.11/site-packages (from jsonpatch<2.0,>=1.33->langchain-core<0.3.0,>=0.2.27->langchain) (2.1)\n"
     ]
    }
   ],
   "source": [
    "! pip install langchain"
   ]
  },
  {
   "cell_type": "code",
   "execution_count": null,
   "metadata": {},
   "outputs": [],
   "source": [
    "import os\n",
    "import openai\n",
    "import sys\n",
    "sys.path.append('../..')\n",
    "\n",
    "from dotenv import load_dotenv, find_dotenv\n",
    "_ = load_dotenv(find_dotenv()) # read local .env file\n",
    "\n",
    "openai.api_key  = os.environ['OPENAI_API_KEY']"
   ]
  },
  {
   "cell_type": "code",
   "execution_count": null,
   "metadata": {},
   "outputs": [
    {
     "name": "stdout",
     "output_type": "stream",
     "text": [
      "Requirement already satisfied: pypdf in /opt/anaconda3/lib/python3.11/site-packages (3.17.4)\n"
     ]
    }
   ],
   "source": [
    "! pip install pypdf "
   ]
  },
  {
   "cell_type": "code",
   "execution_count": null,
   "metadata": {},
   "outputs": [],
   "source": [
    "from langchain.document_loaders import PyPDFLoader\n",
    "pdf_material_loader = PyPDFLoader(\"./docs/Atomic Design.pdf\")\n",
    "pages = pdf_material_loader.load()"
   ]
  },
  {
   "cell_type": "code",
   "execution_count": null,
   "metadata": {},
   "outputs": [
    {
     "name": "stderr",
     "output_type": "stream",
     "text": [
      "USER_AGENT environment variable not set, consider setting it to identify your requests.\n"
     ]
    }
   ],
   "source": [
    "from langchain.document_loaders import WebBaseLoader\n",
    "course_loader = WebBaseLoader(\"https://www.muya.et/courses\")"
   ]
  },
  {
   "cell_type": "code",
   "execution_count": null,
   "metadata": {},
   "outputs": [
    {
     "name": "stdout",
     "output_type": "stream",
     "text": [
      "page_content='Muyalogy | Learn online course with certificateCoursesአማCategoriesAll CoursesAll CoursesBest sellerLearn English: Upgrade Your Speaking and Listening SkillA course by : Nabil Emil Are you struggling to communicate in English? We understand that it can be difficult to speak naturally in a new language, which is why we have developed an online course to help you master the art of conversation in English. Our course is designed for non-English speakers who want to expand their vocabulary and communicate effectively in everyday situations, whether it be making friends, conducting business, watching English films, or traveling to an English-speaking country.As the world's universal language, having a basic understanding of English is essential for functioning in most countries. However, our course will take your English skills to the next level, enabling you to communicate like a native and express even your most complex thoughts. Our comprehensive curriculum covers all aspects of the English language, including grammar, vocabulary, and pronunciation, with a focus on real-life scenarios.Upon completion of our course, you'll be able to navigate through any English-speaking country with ease, connect with locals and other travelers, conduct business, enroll in classes, and so much more. We strive to make our course accessible and easy to understand for non-English speakers, so whether you're a beginner or an intermediate speaker, our course will help you achieve your goals.LevelIntermediateDuration13:00 hLessons36Get startedBest sellerStarting and Running Business in EthiopiaA course by : Haireya Ahmed Welcome to this practical course on doing business in Ethiopia! Whether you are looking to start a new business or expand an existing one in Ethiopia, this course will provide you with valuable insights and guidance to help you navigate the challenges and opportunities of the Ethiopian market. As your instructor, I am excited to share with you my over 10 years of experience in the business world, including valuable lessons learned from both successes and failures.During my career, I have had the opportunity to explore different business sectors, from retail to real estate, and I have even had the pleasure of touring various countries to gain knowledge on international business practices. However, it is my experience in Ethiopia's unique business landscape that sets me apart as an instructor. Through firsthand experience, I have navigated the challenges and complexities of starting and running a business in Ethiopia, and I am excited to share this knowledge with you.In this course, you will gain a comprehensive understanding of Ethiopia's business environment, including legal requirements, cultural norms, and market trends. You will also learn practical skills, such as how to develop a business plan, secure funding, and effectively market your products or services. By the end of this course, you will have the tools and knowledge needed to confidently start or expand your business in Ethiopia. Join me on this exciting journey of discovery and growth in the Ethiopian business world!LevelIntermediateDuration3:00 hLessons33Get startedBest sellerTurn Your Ideas into a Startup: The Essential Guide to EntrepreneurshipA course by : Tigabu Haile As the founder and CEO of Eshi Express and the host of Meri podcast, one of the leading business podcasts in Ethiopia, I am excited to share my knowledge and experience with aspiring entrepreneurs in this course. I have seen firsthand how a simple idea can turn into a successful business with the right tools and strategies in difficult markets like Ethiopia. Through my podcast, I have gained a wealth of knowledge and insights from interviewing successful entrepreneurs in various industries. With this course, I aim to provide you with the same tools and strategies that have helped me build Eshi Express from the ground up.In this course, we will start with the basics of entrepreneurship, including how to identify a viable business idea, evaluate it, and create a solid business plan. We will then move on to more advanced topics, such as branding, marketing, and financial management. Throughout the course, I will share my own experiences and real-world examples to help you understand how to apply these concepts to your own business.But this course is not just about theoretical concepts and case studies. It is also about giving you practical, actionable advice that you can implement in your own business. That's why we have included a variety of exercises and assignments to help you apply what you learn to your own business idea. By the end of the course, you will have a clear understanding of what it takes to start and run a successful business.So if you're ready to turn your ideas into a successful business, I invite you to enroll in this course today. With my guidance and the knowledge you'll gain from this course, you'll be well on your way to building the business of your dreams.LevelIntermediateDuration3:00 hLessons27Get startedBest sellerDesign Stunning Graphics: Introduction to Adobe Photoshop 2024A course by : Selamab Getachew Did you know that Adobe Photoshop is one of the most powerful and widely used graphic design software in the world? If you're looking to take your graphic design skills to the next level, then this course is perfect for you.As an experienced graphic designer and CEO of Peace Ab creative, I've had the opportunity to work with various government and private clients on exciting projects. Over the years, I've learned that mastering Adobe Photoshop is essential for creating visually stunning graphics that captivate and engage your audience.Throughout this course, I'll guide you through the essential tools and techniques needed to create professional-looking designs using Adobe Photoshop. We'll start with the basics, such as navigating the software, understanding file formats, and managing layers. From there, we'll dive into more advanced techniques like photo manipulation, color correction, and typography.But this course isn't just about technical skills. We'll also cover design theory, such as composition, balance, and color theory, to help you create designs that are both aesthetically pleasing and effective. By the end of the course, you'll have the skills to take on any design project, whether it's for personal or professional use. So, what are you waiting for? Sign up now and let's take your graphic design skills to the next level!LevelBeginnerDuration8:00 hLessons38Get startedBest sellerThe Art of Filmmaking: Mastering Storytelling and Editing with Adobe Premiere ProA course by : Robel Birhanu Welcome to my course, I am thrilled to be your course instructor and guide you through this exciting journey of unlocking the secrets of filmmaking and video editing. My name is Robel Birhanu, and I bring with me a wealth of experience as a renowned cinematographer and the proud owner of Rob film production, a reputable film production company.Throughout my career, I have had the incredible opportunity to work on numerous music clip projects for well-known artists in Ethiopia. These projects have allowed me to explore the intricate art of visual storytelling and harness the power of Adobe Premiere Pro to bring captivating stories to life. I am passionate about sharing my knowledge and insights with aspiring filmmakers, video enthusiasts, and content creators like yourself.In this course, we will delve into the fundamentals of filmmaking, covering topics such as story development, pre-production planning, camera techniques, sound design, and, of course, the art of editing with Adobe Premiere Pro. Together, we will explore various creative aspects of filmmaking and learn how to craft compelling narratives that captivate and engage audiences. By the end of this course, you will have the skills and confidence to produce professional-quality videos, whether it's for music videos, short films, documentaries, or any other video project you aspire to create.Join me on this incredible learning journey, and let's unlock the art of filmmaking together. Get ready to unleash your creativity, master the art of storytelling, and elevate your video production skills using Adobe Premiere Pro.LevelBeginnerDuration5:00 hLessons24Get startedBest sellerCrochet Made Easy: Learn the Basic StitchesA course by : Yamlak Fikadu Hi, I'm Yamlak, and I'm so excited to be here with you today to teach you the basics of crocheting! Crocheting is a fun and rewarding hobby that can be enjoyed by people of all ages. It's a great way to relax, de-stress, and be creative.I've been crocheting for over 5 years, and I've taught hundreds of people how to crochet. I love seeing the look on people's faces when they finally master a new stitch or create their first finished project. It's such a rewarding feeling to know that I've helped someone to learn a new skill and to create something beautiful.In this course, I'll teach you everything you need to know to get started with crocheting, from choosing the right supplies to mastering the basic stitches. You'll also learn how to create a variety of projects, including scarves, hats, blankets, and more.So whether you're a complete beginner or you're just looking to brush up on your skills, I encourage you to join me on this journey. I can't wait to see what you create!LevelBeginnerDuration2:00 hLessons21Get startedBuild a Strong Social Media Presence: Mastering Digital Marketing 2024A course by : Bitse Tesfaye Hello there, and welcome to my course! As a seasoned content creator and digital marketer with over 5 years of experience in the industry, I'm excited to share my expertise and help you master digital marketing strategies and tools. This course covers various topics such as search engine optimization (SEO), pay-per-click (PPC) advertising, social media marketing, content marketing, email marketing, and analytics and reporting.Throughout the course, you'll learn how to create and implement effective digital marketing strategies that drive real results for your business. You'll also gain practical skills in keyword research, on-page and off-page optimization techniques, ad copy and design, content creation, email campaign creation, and more.By the end of the course, you'll have a solid understanding of digital marketing fundamentals and advanced techniques, as well as the ability to measure your success and make data-driven decisions. Whether you're a beginner or an experienced marketer, this course is the perfect opportunity to level up your skills and build a strong social media presence that sets you apart from the competition.LevelBeginnerDuration3:30 hLessons48Get startedDesign Your Dream Space: Introduction to Interior DesignA course by : Siham Feysel As an instructor for this course, I am excited to help you learn how to create beautiful and personalized interior spaces. In this course, we will cover the fundamentals of interior design - from space planning to color schemes to furniture selection.As someone who has established a successful interior design business, both online and offline, I am eager to share my knowledge and insights with you. Throughout the course, we will explore techniques for creating a cohesive design style, and I will provide guidance on how to incorporate personal touches into your designs.In this course, you will learn from a well-known interior designer and influencer who has established a successful interior design business, both online and offline. You will gain valuable insights into the design process, including space planning, color schemes, furniture selection, and lighting design. You'll also learn about techniques for creating a cohesive design style, and how to incorporate personal touches into your design to make it truly your own.Through a combination of lectures, assignments, and hands-on projects, you'll get the chance to hone your design skills and creativity. Whether you're looking to start a new career in interior design or simply want to learn more about creating beautifully designed spaces for yourself or others, This is the perfect course for you. By the end of the course, you'll have a grasp on the fundamentals of interior design and be well on your way to creating your dream spaces!LevelBeginnerDuration4:30 hLessons30Get startedBuild Your First Website: A Step-by-Step Guide to Web DevelopmentA course by : Misikir Adane If you're ready to dive into the world of web development, you've come to the right place! I'm excited to introduce you to my new online course, which will provide you with all the knowledge and skills necessary to build your own website from scratch.As an experienced web developer with over a decade of experience, I have had the opportunity to work on various government projects under software companies like Perago Systems and Excellerent Solutions in Ethiopia, as well as international companies like BP. I have a passion for teaching and I'm excited to share my knowledge and experience with you in this comprehensive course.Whether you're an absolute beginner or have some knowledge of web development, this course is designed to guide you through the entire process of creating a website. We'll start with the basics of HTML and CSS, and gradually move on to JavaScript and other advanced topics. You'll learn how to create a responsive and visually appealing website, and how to optimize it for search engines.But that's not all! Along the way, I'll be sharing some of my personal tips and tricks for making your website stand out. You'll learn how to choose the right colors, fonts, and images, and how to create a user-friendly layout. I'll also be sharing some of my experiences working as a web developer, and provide you with valuable insights on what it takes to succeed in this field.By the end of the course, you'll have a fully-functional website that you can proudly show off to your friends and family. You'll also have the skills and knowledge necessary to pursue a career in web development, or to create your own personal website or blog.So what are you waiting for? Join me today and let's start building your first website together!LevelBeginnerDuration4:00 hLessons58Get startedBuild Your Own Fashion Brand: Learn Fashion Design from Sketching to RunwayA course by : Tigist Hailu As an instructor for this course, I am excited to help you learn how to create beautiful and stylish fashion designs. In this course, we will cover the fundamentals of fashion design, from sketching to sewing to marketing.As someone who has established a successful fashion design business, both online and offline, I am eager to share my knowledge and insights with you. Throughout the course, we will explore techniques for creating a cohesive design aesthetic, and I will provide guidance on how to incorporate your personal style into your designs.In this course, you will learn from a well-known fashion designer and influencer who has established a successful fashion design business, both online and offline. You will gain valuable insights into the fashion design process, including sketching, patternmaking, sewing, and marketing. You'll also learn about techniques for creating a cohesive design aesthetic, and how to incorporate your personal style into your designs to make them truly your own.Through a combination of lectures, assignments, and hands-on projects, you'll get the chance to hone your fashion design skills and creativity. Whether you're looking to start a new career in fashion design or simply want to learn more about creating stylish fashion designs for yourself or others, this is the perfect course for you. By the end of the course, you'll have a grasp on the fundamentals of fashion design and be well on your way to creating your own fashion brand!LevelIntermediateDuration4፡00 hLessons28Get startedKeep Your Finances in Order፡ Accounting and Bookkeeping for BusinessesA course by : Samuel Tekleyesus Are you ready to take charge of your small business's financial destiny? I'm thrilled to introduce you to our game-changing online course, \"Accounting and Bookkeeping for Small Businesses: How to Keep Your Finances in Order.\" I'm not just an accountant – I'm also a Certified Professional Life Coach and a Business Consultant with a solid reputation right here in Ethiopia.In this course, I'll be sharing my wealth of experience and insights, gained from years of working closely with entrepreneurs and small business owners across various industries. I understand the unique challenges you face, and I'm here to guide you every step of the way. Together, we'll dive into the nitty-gritty of accounting, unraveling complex concepts and transforming them into practical strategies that will empower your business.Picture this: you'll be learning the ins and outs of accounting and bookkeeping from someone who doesn't just crunch numbers, but who also understands the power of coaching and strategy in driving business success. I've helped countless entrepreneurs like you streamline their financial processes, make sense of those bewildering spreadsheets, and ultimately make informed decisions that propel their businesses forward.Sure, we'll cover all the fundamental accounting stuff – tracking income, managing expenses, and deciphering those intimidating financial statements. But what sets this course apart is the blend of practical skills and transformative mindset shifts. You'll not only become a financial whiz, but you'll also learn how to set meaningful goals, make confident choices, and foster a mindset primed for prosperity.Let's face it – financial management might not be the most glamorous aspect of running a business, but it's undeniably one of the most crucial. So, whether you're a startup founder looking to lay a strong foundation or a seasoned business owner aiming to elevate your operations, I invite you to join me on this incredible journey. Together, we'll unravel the mysteries of accounting, conquer bookkeeping challenges, and pave the way for your small business to thrive like never before.Your success story starts here – enroll today and let's embark on this transformative adventure together.LevelBeginnerDuration5:00 hLessons30Get startedSell Like a Pro: Master the Art of Sales and Customer ServiceA course by : Robel Teferedgne Unlock the secrets to success in the dynamic world of sales and customer service with our course, \"Sell Like a Pro: Master the Art of Sales and Customer Service,\" led by industry expert Robel. With over a decade of experience in training, consultancy, and teaching, Robel brings a wealth of knowledge and practical insights to the table. His academic background, including a Masters in Business Administration from Liverpool University, UK, and a Bachelor's degree in Business Education from Addis Ababa University, forms the foundation of his expertise. As the former Dean of Unity University and a trainer at the Addis Ababa Chamber of Commerce, Robel has honed his skills to perfection.In this comprehensive course, you'll learn cutting-edge sales techniques, customer relationship management strategies, and the art of effective communication. Robel's real-world experience, including founding and managing a successful consultancy firm and restaurant, as well as his current roles as a managing partner at Greater Business Consultancy, PLC, and Robel and Tadious - a wholesale and retail company, uniquely position him to guide you on your journey to becoming a sales and customer service pro.Whether you're a seasoned sales professional looking to elevate your game or someone just starting in the field, this course will equip you with the skills and knowledge needed to excel in today's competitive market. Don't miss this opportunity to learn from a true industry expert and take your sales and customer service skills to new heights. Enroll now and embark on a transformative learning experience that will propel your career forward!LevelBeginnerDuration4:00 hLessons22Get startedShoot Like a Pro: Learn Wedding and Portrait Photography A course by : Surafel Admasu Welcome to a fascinating journey into the world of photography! Are you excited to uncover the tricks to capturing moments with the skill and imagination of experienced photographers? Look no further, my friends. I'm here to be your trusted guide, a well-known photographer admired for my expertise in various types of photography, including beautiful wedding photos and more.In this wonderful adventure, I'll show you how to start taking great photos with just your phone or a regular digital camera. In a time when everyone has a camera in their pocket or bag, photography has never been so easy to try. But don't worry! Our course embraces this idea while also helping you improve your skills to make your photos stand out in a world full of pictures.I've explored different types of photography, and now I'm excited to share what I've learned with you. Beyond the technical details, we'll also explore the creative side of photography that can turn a plain photo into an amazing one.We'll learn everything from how to arrange your photos and use lighting to telling stories with your pictures. \"Shoot Like a Pro\" covers all of this and more. Whether you're completely new to photography and want to learn, or if you already love taking photos and want to get even better, this course is perfect for you.I'm here to guide you through the world of photography—a storyteller who has captured special moments through the camera lens. Get ready for a journey of learning that will change the way you see and capture the world around you. So, are you excited to get started?LevelBeginnerDuration4:30 hLessons24Get startedMake Them Buy: The Ultimate Guide to MarketingA course by : Mekedela Mekuria Hey I'm Mekedela, and I'm thrilled to be your instructor for this exciting journey into the world of marketing.A bit about myself: I'm a freelancer managing Edelweiss Marketing Consultancy, where I offer training on various personal and business development topics. One of my greatest passions is teaching Marketing and entrepreneurship at St. Mary's University. I believe in the power of creative teaching through inspirational storytelling, which has a significant impact on how we assimilate knowledge.Beyond my work with Edelweiss and the university, I also serve as a Business and Finance Coach at E4Impact, an MBA program. My commitment to any task I take on is fueled by a strong sense of responsibility, and I always strive to make a positive contribution to my student's growth and success.I consider myself a perpetual student of life, and I wholeheartedly embrace any opportunity to learn and improve. That's why I'm a proud member of Toastmasters, where I dedicate myself to honing my leadership and public speaking skills.Now, let's dive into the course \"Make Them Buy.\" In this comprehensive program, we'll explore the art of persuasion, understanding the customer's needs, and crafting irresistible sales pitches that resonate with your target audience. Whether you're a seasoned marketing professional or a budding entrepreneur, this course will equip you with the tools and techniques needed to close deals and win loyal customers.Throughout this journey, I'll be sharing my insights, experiences, and practical tips to help you become a persuasive force in your field. My goal is not only to teach you the theory behind marketing and persuasion but to also empower you to apply these skills effectively in real-life scenarios.So, get ready to embark on a transformational learning experience. Let's Make Them Buy together and unleash your true potential in the world of marketing and customer-centric persuasion. I can't wait to see you flourish and succeed! Let's get started!LevelBeginnerDuration5:00 hLessons38Get startedBecome an Influencer: A Complete YouTube and TikTok MasterclassA course by : Thomas Negusse Hello, and welcome to my course! I'm thrilled to be your guide on this journey to become a successful content creator and influencer.As someone who started from Vine to TikTok, then YouTube, I know first-hand the ins and outs of building a loyal following and creating content that resonates with your audience. I've done it all, from comedy skits to parody videos, and have worked with major brands in Ethiopia and outside Ethiopia to create promotional content that drives engagement and sales.In this course, I'll be sharing my tried-and-true strategies for creating high-quality content, growing your following, and engaging with your audience on both TikTok, Instagram, Facebook and YouTube. We'll start with the basics, from setting up your account to understanding the algorithm and creating content that's optimized for each platform.We'll also dive into more advanced topics, such as building your brand identity, creating a content strategy, and monetizing your channel. Throughout the course, you'll have the opportunity to ask questions, participate in discussions, and receive feedback on your own content.Whether you're a complete beginner or an experienced content creator looking to take your channel to the next level, this course has something for you. By the end of this course, you'll have the skills and knowledge needed to become a successful influencer on all social media platforms.So, join me on this exciting journey and let's build your influencer career together!LevelBeginnerDuration3:00 hLessons30Get startedNail and Lash for Beginners: A Step-by-Step InstructionA course by : Nardos Abraham I'm thrilled to be your instructor as we dig deep into the world of nail and lash artistry. Throughout this course, you'll gain a solid foundation in the essentials of creating stunning and professional-looking nails and lashes.As an experienced nail and lash artist with a successful career in the industry, both in-person and online, I'm excited to share my knowledge and insights with you. We will explore the fundamental techniques and skills necessary to create beautiful and personalized nail and lash designs.During this course, we will cover a wide range of topics, from basic nail and lash care to different application techniques and design styles. You'll learn how to properly prepare nails and lashes, select the right products and tools, and execute various artistic designs.Through a combination of detailed lectures, practical assignments, and hands-on projects, you'll have the opportunity to refine your skills and unleash your creativity. Whether you're interested in pursuing a career in nail and lash artistry or simply want to enhance your own beauty routine, this course is perfect for beginners like you.By the end of the course, you'll have a firm grasp of the essential techniques, methods, and trends in nail and lash artistry. Get ready to embark on an exciting journey and discover the secrets to creating stunning nails and lashes!LevelBeginnerDuration4:30 hLessons30Get startedDraw Like a Pro: Mastering Techniques and Principles of Pencil DrawingA course by : Leul Mekonnen Do you want to create beautiful and realistic artwork like the professionals do? Look no further than this course. This comprehensive online course is designed to teach you the fundamental techniques and principles of pencil drawing, including shading, texture, composition, and perspective. you'll learn the skills needed to create realistic and visually stunning artwork that's sure to impress.Through a series of engaging video lessons and interactive exercises, you'll develop a deep understanding of the art of pencil drawing. Our course is structured to accommodate artists of all levels, from complete beginners to experienced artists seeking to take their skills to the next level. We'll start with the basics of sketching, including how to hold your pencil and create simple shapes and forms. From there, we'll delve into more advanced concepts like lighting and shadow, anatomy and proportion, and composition and perspective. With each lesson, you'll gain valuable insights and techniques that you can apply to your own artwork.By the end of the course, you'll have a firm grasp of the techniques and principles used by professional artists, allowing you to create stunning works of art that showcase your unique style and vision. Whether you're a hobbyist, a student, or a professional artist, This course is the perfect course for anyone looking to elevate their pencil drawing skills and create artwork that inspires and amazes.LevelBeginnerDuration3:30 hLessons30Get startedLearn Mandarin: Mastering the Art of Chinese Language A course by : Kaleab Zelalem Embark on a truly transformative Mandarin language learning journey with me, your dedicated instructor, Kaleab. Whether you're eagerly anticipating university entrance results, currently enrolled in a Chinese institution, a diplomat navigating international relations, an employee in a Chinese organization, or an international businessman engaged in China, my specially crafted online course caters to your diverse needs.I, Kaleab, personally invite you to delve into a structured curriculum that covers fundamental aspects of Mandarin. From grasping the basics of the language to mastering greetings, constructing sentences, and exploring cultural nuances, each unit is thoughtfully designed to ensure a well-rounded and immersive learning experience.Drawing from my own experiences, I began my academic endeavors at Hubei Normal University in China, where I not only honed my linguistic skills but also earned a bachelor's degree in international law. My personal journey has laid the foundation for a career dedicated to fostering understanding and connection between cultures. With my guidance, you'll not only learn the intricacies of Mandarin but also gain a deeper appreciation for the cultural context that shapes the language.Enroll today and let me be your expert guide, unlocking the door to effective communication in Mandarin. Enhance your ability to connect with others and navigate various scenarios in Chinese-speaking environments. From basic greetings to more complex topics like family discussions and weather expressions, this course is your passport to a richer understanding of Mandarin language and culture. Join me on this exciting linguistic journey, and let's explore the captivating world of Mandarin together.LevelBeginnerDuration6:00 hLessons42Get startedLearn Ethiopian Sign Language: Master Communication SkillsA course by : Biruk Bahiru As your instructor, I am excited to guide you on a comprehensive journey to master Amharic Sign Language. We will start with the basics, learning the alphabet and numerical signs, which are the building blocks of this beautiful language. From there, we will progress to constructing simple phrases, enabling you to begin communicating basic ideas effectively. My approach is hands-on and interactive, ensuring that you gain practical skills from the very beginning.In the second part of our course, we'll dive deeper into the nuances of Amharic Sign Language. We'll explore how to express complex thoughts and emotions, and I'll introduce you to the rich tapestry of deaf culture. Understanding this culture is crucial as it shapes the communication styles and behaviors within the deaf community. By the end of this course, you will not only be able to converse using signs but also appreciate the cultural context that informs and enriches every interaction.LevelBeginnerDuration4:00 hLessons33Get startedUnderstanding Special Needs: Children with Autism and Down SyndromeA course by : Mihiret Melaku This course delves into the complexities of supporting children with special needs, specifically focusing on autism and Down syndrome. In Ethiopia, where it is estimated that over five million children with these conditions often go unrecognized and untreated, there is a pressing need for comprehensive educational and psychological support systems. The course begins with an introduction to special needs, offering a clear definition and explaining the spectrum that includes conditions such as cerebral palsy, dyslexia, and ADHD while emphasizing the focus on autism and Down syndrome due to their prevalence and the significant impact they have on children and families.Throughout the course, we will explore the clinical diagnostic processes and functional development strategies essential for managing these conditions. There is no definitive scientific cure for either condition, which highlights the importance of alternative therapeutic approaches, particularly psychological treatments. We'll examine how everyday people, including parents and neighbors, can play a critical role in supporting the growth and development of children with these conditions, challenging the misconceptions that they are a curse or a result of bad fortune. Instead, we stress that these are manageable conditions with the right knowledge and support.Moreover, the course will cover practical aspects such as the differences between autism and Down syndrome, effective speech therapy techniques for autism, and specialized diets that can help manage behavior and mood. Additionally, a significant portion of the training will be devoted to supporting the parents of special needs children, offering them strategies for stress management, time management, and creating a nurturing environment at home. By equipping caregivers with this knowledge, we aim to enhance the quality of life for children with special needs, enabling them to integrate more fully into society and experience a life as close to normal as possible.LevelBeginnerDuration3:00 hLessons20Get startedProfessional Caregiving: A Complete Training CourseA course by : Samrawit Tarekegn The Professional Caregiver Training Program is a detailed online course designed for caregivers, parents, and individuals who wish to pursue a career in professional caregiving. This comprehensive program equips participants with the necessary skills and knowledge to excel in child care settings. It covers a wide array of essential topics related to child development and caregiving practices.Participants will explore the fascinating aspects of child development, gaining insights into the physical, cognitive, social, and emotional growth of children. The course delves into the different developmental stages and the key milestones at each phase. Special emphasis is placed on infant care, where learners acquire skills in safely handling, bathing, and feeding infants, along with techniques for establishing effective sleep routines and promoting proper nutrition across various age groups.Additionally, the program includes training in first aid to prepare caregivers for common childhood emergencies. Effective communication strategies are also taught, focusing on language development and interactive learning activities to create a supportive and nurturing environment for children. By the end of this program, participants will be able to develop a personalized care plan that demonstrates their understanding of comprehensive child care, safety practices, and communication techniques.LevelBeginnerDuration3:00 hLessons27Get startedProduce Trendy Songs: Learn Music Production in FL StudioA course by : Noh Sead  Greetings, and welcome to my music production course. I'm thrilled to share my unique approach with you through this online learning experience. As a music producer and songwriter, my sound is grounded in the rich heritage of traditional Ethiopian instruments and melodies. However, I also seamlessly blend in global influences to create something fresh and futuristic.Over the years, I've had the privilege of collaborating with many pioneering and upcoming Ethiopian artists. Working closely with them has given me deep insights into our musical roots, which I am eager to pass on to you. My portfolio includes a wide range of projects, from composing and arranging to mixing and mastering music projects. I have also composed scores for numerous movie and documentary projects, as well as corporate works and jingles for companies promoting Ethiopian culture through my sound. Additionally, I have also developed a midi playable instrument bank with Ethiopian native instruments Kirar and Masinko. I have released its demo version so that upcoming producers can benefit from it.In this course, my aim is to provide you with a solid foundation in music production and audio editing. I will pave the way for you by offering clear and comprehensive guidance on how to begin your journey, unlocking the creativity that lies within you. We will cover essential techniques in recording, arrangement, audio editing, and mixing. However, my aspirations extend beyond just teaching you skills. I hope to ignite your artistic vision so that you can contribute to Ethiopian music in the long run.My ultimate goal is for this online community to fuel further collaborations and support the launch of new artists. Together, let us build upon our rich musical heritage to shape an even brighter future for Ethiopian music worldwide. I look forward to guiding you through this exciting journey in music production. Let's get started!LevelBeginnerDuration6:00 hLessons21Get startedWhat to expect from  Muyalogy coursesLearn at your own paceEnjoy learning from home without a set schedule and with an easy-to-follow method. You set your own paceWatch professionally produced coursesWe curates its teacher roster and produces every course in-house to ensure a high-quality online learning experienceLearn from the best professionalsLearn valuable methods and techniques explained by top experts in the creative sectorLearn with out language barrierGet life time access to courses in different languages and subtitlesMeet expert teachersEach expert teaches what they do best, with clear guidelines, true passion, and professional insight in every lessonEarn a completion certificate with every courseGet a custom certificate signed by your teacher for every course, Share it on your portfolio, social media, or wherever you likeGet front-row seatsVideos of the highest quality, so you don't miss a single detail, With unlimited access, you can watch them as many times as you need to perfect your techniqueShare knowledge and ideasAsk questions, request feedback, or offer solutions, Share your learning experience with other students in the community who are as passionate about creativity as you areBecome InstructorContact UsAbout UsPress KitFAQTerms of ServicePrivacy Policy© 2024 Muyalogy Digital Services SC. All Rights Reserved' metadata={'source': 'https://www.muya.et/courses', 'title': 'Muyalogy | Learn online course with certificate', 'description': 'Muyalogy is an innovative full-service skill-learning platform that curates, produces, and distributes high-quality online courses in a variety of fields.', 'language': 'en'}\n"
     ]
    }
   ],
   "source": [
    "course_doc = course_loader.load()\n",
    "print(course_doc[0])"
   ]
  },
  {
   "cell_type": "code",
   "execution_count": null,
   "metadata": {},
   "outputs": [],
   "source": [
    "faq_loader = WebBaseLoader(\"https://www.muya.et/content/faq\")"
   ]
  },
  {
   "cell_type": "code",
   "execution_count": null,
   "metadata": {},
   "outputs": [
    {
     "name": "stdout",
     "output_type": "stream",
     "text": [
      "page_content='Muyalogy | Learn online course with certificateCoursesአማFrequently asked questionWhat is Muyalogy?Muyalogy is an innovative full-service learning platform that produces, markets and manages online courses in a variety of fields. The name Muyalogy is a combination of two words – Muya, which means skill in Amharic, and logy, which means study in Greek. and our platform has currently started registration for the various courses that we are providing. Muyalogy is a place where anyone can learn a new skill.What kind of courses do you offer?Muyalogy provides various skill courses like photography, graphics design, fashion design, music production, entrepreneurship, interior design, guitar, cake baking, nail & lash..and more, Course difficulty for each course is mentioned in the course description.You can find our course catalog on our website muyalogy.comYou can suggest courses along with instructors through our Telegram, email, or phone number.What are the benefits of learning with Muyalogy?Best professionals ( Expert in their field )High-quality production ( Visual & Audio )Access educational content with local language Flexible learning ( Anytime, Anywhere )Interactive exercises and quizzesProject-based learningSupport from instructors and other students via our community platforms Affordable priceCertificate of completion signed by course instructorsHow do I get started with Muyalogy?By registering on our website muyalogy.com or telebirr super app. Our website is very user-friendly. It takes few simple steps to get registered, What are the technical requirements for learning at Muyalogy?To use Muyalogy one needs to have a smartphone or computer and an internet accessA mobile phone - For registrationAccess to one of Ethiopian digital payment waysWhat are your pricing plans?Our pricing plan is pay per course and are very affordable.Our course price starts from 2000 ETBFor now you only have to pay registration price ( 500 ETB ) Free trial and discounts are on the way.What are your payment methods?Payments will only be made digitally..using Telebirr superapp, or through our website using Telebirr, CBE birr, Awash birr, Amole, paypal, BOA, enat bank, Hello cash, Coop E birr you can use whichever one that is convenient to you.You can contact us for assistance if you don't have any digital payment waysCan I watch my courses on any device?\n",
      "Yes, With Muyalogy, users can access our online courses from any device, be it desktop, laptop, tablet, or mobile.How long are your courses?Courses are delivered through recorded video format in the range of 3 to 6 hours long, The Courses will also be divided by Units and Lessons.Can I share my account with others?No, our security policy does not allow account sharing, screen recording and downloading.Can I download and take the course offline?For now we only support online streaming but we are on the way to launch our own mobile app which includes offline features.What if I have a question while learning?Muyalogy provides a community platform. Just because our courses are online ,it does not mean you are learning alone. There will be a large number of students learning the same course as you, so our platform has integrated telegram groups so that you can network with other students and your instructors as well.How can I contact customer support?Office Address: Mambuk building 7th floor, Meskel Flower, Addis Ababa, EthiopiaMobile Phone: +251904135555Email: hi@muyalogy.comHow can I stay up-to-date on Muyalogy?By following our social media platforms, we have daily contents there.Telegram : https://www.t.me/muyalogyFacebook : https://www.facebook.com/muyalogy.etInstagram : https://www.instagram.com/muyalogyTikTok : https://www.tiktok.com/muyalogyTwitter : https://twitter.com/muyalogyYoutube : https://www.youtube.com/@muyalogyLinkedIn company : https://www.linkedin.com/company/muyalogyHow can I become a Muyalogy instructor?Muyalogy has some requirements for instructors, so if you can meet those, Muyalogy is very open to work together.Do you give certificates after completion?\n",
      "Yes , Muyalogy gives certificates after you completed your course,& more importantly leaves you with a valuable skill set.Our certification is not accredited for the time being but companies are starting to consider our certificates while recruiting.Does Muyalogy provide job opportunities?Yes, Muyalogy certified students will have job opportunities on their prospective skills and could also potentially become business owners.We are on the way to partner with major job matching platforms.Who can learn your courses?Muyalogy courses are designed for anyone who has the interest to learn…it can be for students , freelancers, hobbyists, companies who want to empower their employeesIn what language are you providing the courses?Our courses are produced in Amharic language though we have a plan in dubbing our courses in multiple local languages and be more accessible. We also have subtitles so that our platform is also accessible to people who are deaf and hard of hearing. How do you ensure the quality of the educational content on your platform?We have a team of experienced and qualified instructors who are passionate about teaching.Our courses are designed to meet the needs of our students and to help them achieve their learning goals.Our courses are up to date to reflect the latest industry trends and best practices.We offer a variety of learning resources, including video lectures, interactive exercises, and quizzes, to help our students learn effectively.We will provide ongoing support to our students through our live sessions,community groups, and personal practical sessionsWe will regularly collect feedback from our students to ensure that our courses are meeting their needs.Who are Muyalogy instructors?Muyalogy instructors are experts in their field with years of experience working on their sectors . They are passionate about sharing their knowledge and helping others learn.We have sets of criteria to approve instructors to teach courses with Muyalogy.How can I get the resources required for the courses?Our platform provides a list of recommended materials or resources for each course, we also guide you where to find the necessary materials beforehand.We are also on the way to start our own digital store where students buy rent and share required tools and materials.When do we start learning the courses?We'll send out more information about the start date and time as soon as it's finalized.What can I do if I forget my password on website registration?Please go to the forgot password button and reset your password. if you are struggling yet you can contact customer support for the website. They will be able to help you reset your password.Is it an online class or online course?We offer online courses. An online course is a series of online classes that are typically taught over a period of weeks or months. Our online courses are designed to be flexible and self-paced, so you can learn at your own pace and on your own time.Can I take more than one courses?Yes, you can take more than one courses. However, the number of courses you can take will depend on your learning style, your schedule, and the requirements of the courses you are taking.Can I get registered via email?Currently, we only allow registration via phone number. We use phone numbers to verify the identity of our users and to send them important notifications. We apologize for any inconvenience this may cause.How can I contact the instructor?Our platform supports different mechanisms to help you to meet the instructorCommunity, it helps You to  post a question in the discussion forums for your course. The instructor will be able to see your question and respond to it.Live session The instructor may offer live session hours where you can contact them directly. live hours are typically scheduled at specific times, so you will need to check the course schedule to see when they are available.If you don't find your answer here, please contact us Become InstructorContact UsAbout UsPress KitFAQTerms of ServicePrivacy Policy© 2024 Muyalogy Digital Services SC. All Rights Reserved' metadata={'source': 'https://www.muya.et/content/faq', 'title': 'Muyalogy | Learn online course with certificate', 'description': 'Muyalogy is an innovative full-service skill-learning platform that curates, produces, and distributes high-quality online courses in a variety of fields.', 'language': 'en'}\n"
     ]
    }
   ],
   "source": [
    "faqs = faq_loader.load()\n",
    "print(faqs[0])"
   ]
  },
  {
   "cell_type": "code",
   "execution_count": null,
   "metadata": {},
   "outputs": [
    {
     "data": {
      "text/plain": [
       "8179"
      ]
     },
     "execution_count": 7,
     "metadata": {},
     "output_type": "execute_result"
    }
   ],
   "source": [
    "len(faqs[0].page_content)"
   ]
  },
  {
   "cell_type": "code",
   "execution_count": null,
   "metadata": {},
   "outputs": [],
   "source": [
    "from langchain.text_splitter import RecursiveCharacterTextSplitter\n",
    "r_splitter = RecursiveCharacterTextSplitter(\n",
    "    chunk_size=1500,\n",
    "    chunk_overlap=150\n",
    ")"
   ]
  },
  {
   "cell_type": "code",
   "execution_count": null,
   "metadata": {},
   "outputs": [],
   "source": [
    "splits = r_splitter.split_documents(pages)"
   ]
  },
  {
   "cell_type": "code",
   "execution_count": null,
   "metadata": {},
   "outputs": [
    {
     "name": "stdout",
     "output_type": "stream",
     "text": [
      "Requirement already satisfied: langchain-openai in /opt/anaconda3/lib/python3.11/site-packages (0.1.22)\n",
      "Requirement already satisfied: langchain-core<0.3.0,>=0.2.33 in /opt/anaconda3/lib/python3.11/site-packages (from langchain-openai) (0.2.33)\n",
      "Requirement already satisfied: openai<2.0.0,>=1.40.0 in /opt/anaconda3/lib/python3.11/site-packages (from langchain-openai) (1.40.8)\n",
      "Requirement already satisfied: tiktoken<1,>=0.7 in /opt/anaconda3/lib/python3.11/site-packages (from langchain-openai) (0.7.0)\n",
      "Requirement already satisfied: PyYAML>=5.3 in /opt/anaconda3/lib/python3.11/site-packages (from langchain-core<0.3.0,>=0.2.33->langchain-openai) (6.0.1)\n",
      "Requirement already satisfied: jsonpatch<2.0,>=1.33 in /opt/anaconda3/lib/python3.11/site-packages (from langchain-core<0.3.0,>=0.2.33->langchain-openai) (1.33)\n",
      "Requirement already satisfied: langsmith<0.2.0,>=0.1.75 in /opt/anaconda3/lib/python3.11/site-packages (from langchain-core<0.3.0,>=0.2.33->langchain-openai) (0.1.82)\n",
      "Requirement already satisfied: packaging<25,>=23.2 in /opt/anaconda3/lib/python3.11/site-packages (from langchain-core<0.3.0,>=0.2.33->langchain-openai) (23.2)\n",
      "Requirement already satisfied: pydantic<3,>=1 in /opt/anaconda3/lib/python3.11/site-packages (from langchain-core<0.3.0,>=0.2.33->langchain-openai) (2.8.2)\n",
      "Requirement already satisfied: tenacity!=8.4.0,<9.0.0,>=8.1.0 in /opt/anaconda3/lib/python3.11/site-packages (from langchain-core<0.3.0,>=0.2.33->langchain-openai) (8.3.0)\n",
      "Requirement already satisfied: typing-extensions>=4.7 in /opt/anaconda3/lib/python3.11/site-packages (from langchain-core<0.3.0,>=0.2.33->langchain-openai) (4.12.2)\n",
      "Requirement already satisfied: anyio<5,>=3.5.0 in /opt/anaconda3/lib/python3.11/site-packages (from openai<2.0.0,>=1.40.0->langchain-openai) (4.2.0)\n",
      "Requirement already satisfied: distro<2,>=1.7.0 in /opt/anaconda3/lib/python3.11/site-packages (from openai<2.0.0,>=1.40.0->langchain-openai) (1.8.0)\n",
      "Requirement already satisfied: httpx<1,>=0.23.0 in /opt/anaconda3/lib/python3.11/site-packages (from openai<2.0.0,>=1.40.0->langchain-openai) (0.27.0)\n",
      "Requirement already satisfied: jiter<1,>=0.4.0 in /opt/anaconda3/lib/python3.11/site-packages (from openai<2.0.0,>=1.40.0->langchain-openai) (0.4.0)\n",
      "Requirement already satisfied: sniffio in /opt/anaconda3/lib/python3.11/site-packages (from openai<2.0.0,>=1.40.0->langchain-openai) (1.3.0)\n",
      "Requirement already satisfied: tqdm>4 in /opt/anaconda3/lib/python3.11/site-packages (from openai<2.0.0,>=1.40.0->langchain-openai) (4.65.0)\n",
      "Requirement already satisfied: regex>=2022.1.18 in /opt/anaconda3/lib/python3.11/site-packages (from tiktoken<1,>=0.7->langchain-openai) (2023.12.25)\n",
      "Requirement already satisfied: requests>=2.26.0 in /opt/anaconda3/lib/python3.11/site-packages (from tiktoken<1,>=0.7->langchain-openai) (2.31.0)\n",
      "Requirement already satisfied: idna>=2.8 in /opt/anaconda3/lib/python3.11/site-packages (from anyio<5,>=3.5.0->openai<2.0.0,>=1.40.0->langchain-openai) (3.4)\n",
      "Requirement already satisfied: certifi in /opt/anaconda3/lib/python3.11/site-packages (from httpx<1,>=0.23.0->openai<2.0.0,>=1.40.0->langchain-openai) (2024.2.2)\n",
      "Requirement already satisfied: httpcore==1.* in /opt/anaconda3/lib/python3.11/site-packages (from httpx<1,>=0.23.0->openai<2.0.0,>=1.40.0->langchain-openai) (1.0.5)\n",
      "Requirement already satisfied: h11<0.15,>=0.13 in /opt/anaconda3/lib/python3.11/site-packages (from httpcore==1.*->httpx<1,>=0.23.0->openai<2.0.0,>=1.40.0->langchain-openai) (0.14.0)\n",
      "Requirement already satisfied: jsonpointer>=1.9 in /opt/anaconda3/lib/python3.11/site-packages (from jsonpatch<2.0,>=1.33->langchain-core<0.3.0,>=0.2.33->langchain-openai) (2.1)\n",
      "Requirement already satisfied: orjson<4.0.0,>=3.9.14 in /opt/anaconda3/lib/python3.11/site-packages (from langsmith<0.2.0,>=0.1.75->langchain-core<0.3.0,>=0.2.33->langchain-openai) (3.10.3)\n",
      "Requirement already satisfied: annotated-types>=0.4.0 in /opt/anaconda3/lib/python3.11/site-packages (from pydantic<3,>=1->langchain-core<0.3.0,>=0.2.33->langchain-openai) (0.6.0)\n",
      "Requirement already satisfied: pydantic-core==2.20.1 in /opt/anaconda3/lib/python3.11/site-packages (from pydantic<3,>=1->langchain-core<0.3.0,>=0.2.33->langchain-openai) (2.20.1)\n",
      "Requirement already satisfied: charset-normalizer<4,>=2 in /opt/anaconda3/lib/python3.11/site-packages (from requests>=2.26.0->tiktoken<1,>=0.7->langchain-openai) (3.3.2)\n",
      "Requirement already satisfied: urllib3<3,>=1.21.1 in /opt/anaconda3/lib/python3.11/site-packages (from requests>=2.26.0->tiktoken<1,>=0.7->langchain-openai) (2.0.7)\n"
     ]
    }
   ],
   "source": [
    "! pip install -U langchain-openai \n",
    "from langchain_openai import OpenAIEmbeddings\n",
    "embedding = OpenAIEmbeddings()"
   ]
  },
  {
   "cell_type": "code",
   "execution_count": null,
   "metadata": {},
   "outputs": [
    {
     "name": "stdout",
     "output_type": "stream",
     "text": [
      "Requirement already satisfied: chromadb in /opt/anaconda3/lib/python3.11/site-packages (0.4.24)\n",
      "Requirement already satisfied: build>=1.0.3 in /opt/anaconda3/lib/python3.11/site-packages (from chromadb) (1.2.1)\n",
      "Requirement already satisfied: requests>=2.28 in /opt/anaconda3/lib/python3.11/site-packages (from chromadb) (2.31.0)\n",
      "Requirement already satisfied: pydantic>=1.9 in /opt/anaconda3/lib/python3.11/site-packages (from chromadb) (2.8.2)\n",
      "Requirement already satisfied: chroma-hnswlib==0.7.3 in /opt/anaconda3/lib/python3.11/site-packages (from chromadb) (0.7.3)\n",
      "Requirement already satisfied: fastapi>=0.95.2 in /opt/anaconda3/lib/python3.11/site-packages (from chromadb) (0.110.1)\n",
      "Requirement already satisfied: uvicorn>=0.18.3 in /opt/anaconda3/lib/python3.11/site-packages (from uvicorn[standard]>=0.18.3->chromadb) (0.29.0)\n",
      "Requirement already satisfied: numpy>=1.22.5 in /opt/anaconda3/lib/python3.11/site-packages (from chromadb) (1.26.4)\n",
      "Requirement already satisfied: posthog>=2.4.0 in /opt/anaconda3/lib/python3.11/site-packages (from chromadb) (3.5.0)\n",
      "Requirement already satisfied: typing-extensions>=4.5.0 in /opt/anaconda3/lib/python3.11/site-packages (from chromadb) (4.12.2)\n",
      "Requirement already satisfied: pulsar-client>=3.1.0 in /opt/anaconda3/lib/python3.11/site-packages (from chromadb) (3.5.0)\n",
      "Requirement already satisfied: onnxruntime>=1.14.1 in /opt/anaconda3/lib/python3.11/site-packages (from chromadb) (1.17.3)\n",
      "Requirement already satisfied: opentelemetry-api>=1.2.0 in /opt/anaconda3/lib/python3.11/site-packages (from chromadb) (1.24.0)\n",
      "Requirement already satisfied: opentelemetry-exporter-otlp-proto-grpc>=1.2.0 in /opt/anaconda3/lib/python3.11/site-packages (from chromadb) (1.24.0)\n",
      "Requirement already satisfied: opentelemetry-instrumentation-fastapi>=0.41b0 in /opt/anaconda3/lib/python3.11/site-packages (from chromadb) (0.45b0)\n",
      "Requirement already satisfied: opentelemetry-sdk>=1.2.0 in /opt/anaconda3/lib/python3.11/site-packages (from chromadb) (1.24.0)\n",
      "Requirement already satisfied: tokenizers>=0.13.2 in /opt/anaconda3/lib/python3.11/site-packages (from chromadb) (0.19.1)\n",
      "Requirement already satisfied: pypika>=0.48.9 in /opt/anaconda3/lib/python3.11/site-packages (from chromadb) (0.48.9)\n",
      "Requirement already satisfied: tqdm>=4.65.0 in /opt/anaconda3/lib/python3.11/site-packages (from chromadb) (4.65.0)\n",
      "Requirement already satisfied: overrides>=7.3.1 in /opt/anaconda3/lib/python3.11/site-packages (from chromadb) (7.4.0)\n",
      "Requirement already satisfied: importlib-resources in /opt/anaconda3/lib/python3.11/site-packages (from chromadb) (6.4.0)\n",
      "Requirement already satisfied: grpcio>=1.58.0 in /opt/anaconda3/lib/python3.11/site-packages (from chromadb) (1.63.0)\n",
      "Requirement already satisfied: bcrypt>=4.0.1 in /opt/anaconda3/lib/python3.11/site-packages (from chromadb) (4.1.3)\n",
      "Requirement already satisfied: typer>=0.9.0 in /opt/anaconda3/lib/python3.11/site-packages (from chromadb) (0.9.4)\n",
      "Requirement already satisfied: kubernetes>=28.1.0 in /opt/anaconda3/lib/python3.11/site-packages (from chromadb) (29.0.0)\n",
      "Requirement already satisfied: tenacity>=8.2.3 in /opt/anaconda3/lib/python3.11/site-packages (from chromadb) (8.3.0)\n",
      "Requirement already satisfied: PyYAML>=6.0.0 in /opt/anaconda3/lib/python3.11/site-packages (from chromadb) (6.0.1)\n",
      "Requirement already satisfied: mmh3>=4.0.1 in /opt/anaconda3/lib/python3.11/site-packages (from chromadb) (4.1.0)\n",
      "Requirement already satisfied: orjson>=3.9.12 in /opt/anaconda3/lib/python3.11/site-packages (from chromadb) (3.10.3)\n",
      "Requirement already satisfied: packaging>=19.1 in /opt/anaconda3/lib/python3.11/site-packages (from build>=1.0.3->chromadb) (23.2)\n",
      "Requirement already satisfied: pyproject_hooks in /opt/anaconda3/lib/python3.11/site-packages (from build>=1.0.3->chromadb) (1.1.0)\n",
      "Requirement already satisfied: starlette<0.38.0,>=0.37.2 in /opt/anaconda3/lib/python3.11/site-packages (from fastapi>=0.95.2->chromadb) (0.37.2)\n",
      "Requirement already satisfied: certifi>=14.05.14 in /opt/anaconda3/lib/python3.11/site-packages (from kubernetes>=28.1.0->chromadb) (2024.2.2)\n",
      "Requirement already satisfied: six>=1.9.0 in /opt/anaconda3/lib/python3.11/site-packages (from kubernetes>=28.1.0->chromadb) (1.16.0)\n",
      "Requirement already satisfied: python-dateutil>=2.5.3 in /opt/anaconda3/lib/python3.11/site-packages (from kubernetes>=28.1.0->chromadb) (2.8.2)\n",
      "Requirement already satisfied: google-auth>=1.0.1 in /opt/anaconda3/lib/python3.11/site-packages (from kubernetes>=28.1.0->chromadb) (2.29.0)\n",
      "Requirement already satisfied: websocket-client!=0.40.0,!=0.41.*,!=0.42.*,>=0.32.0 in /opt/anaconda3/lib/python3.11/site-packages (from kubernetes>=28.1.0->chromadb) (0.58.0)\n",
      "Requirement already satisfied: requests-oauthlib in /opt/anaconda3/lib/python3.11/site-packages (from kubernetes>=28.1.0->chromadb) (2.0.0)\n",
      "Requirement already satisfied: oauthlib>=3.2.2 in /opt/anaconda3/lib/python3.11/site-packages (from kubernetes>=28.1.0->chromadb) (3.2.2)\n",
      "Requirement already satisfied: urllib3>=1.24.2 in /opt/anaconda3/lib/python3.11/site-packages (from kubernetes>=28.1.0->chromadb) (2.0.7)\n",
      "Requirement already satisfied: coloredlogs in /opt/anaconda3/lib/python3.11/site-packages (from onnxruntime>=1.14.1->chromadb) (15.0.1)\n",
      "Requirement already satisfied: flatbuffers in /opt/anaconda3/lib/python3.11/site-packages (from onnxruntime>=1.14.1->chromadb) (24.3.25)\n",
      "Requirement already satisfied: protobuf in /opt/anaconda3/lib/python3.11/site-packages (from onnxruntime>=1.14.1->chromadb) (3.20.3)\n",
      "Requirement already satisfied: sympy in /opt/anaconda3/lib/python3.11/site-packages (from onnxruntime>=1.14.1->chromadb) (1.12)\n",
      "Requirement already satisfied: deprecated>=1.2.6 in /opt/anaconda3/lib/python3.11/site-packages (from opentelemetry-api>=1.2.0->chromadb) (1.2.14)\n",
      "Requirement already satisfied: importlib-metadata<=7.0,>=6.0 in /opt/anaconda3/lib/python3.11/site-packages (from opentelemetry-api>=1.2.0->chromadb) (7.0.0)\n",
      "Requirement already satisfied: googleapis-common-protos~=1.52 in /opt/anaconda3/lib/python3.11/site-packages (from opentelemetry-exporter-otlp-proto-grpc>=1.2.0->chromadb) (1.63.0)\n",
      "Requirement already satisfied: opentelemetry-exporter-otlp-proto-common==1.24.0 in /opt/anaconda3/lib/python3.11/site-packages (from opentelemetry-exporter-otlp-proto-grpc>=1.2.0->chromadb) (1.24.0)\n",
      "Requirement already satisfied: opentelemetry-proto==1.24.0 in /opt/anaconda3/lib/python3.11/site-packages (from opentelemetry-exporter-otlp-proto-grpc>=1.2.0->chromadb) (1.24.0)\n",
      "Requirement already satisfied: opentelemetry-instrumentation-asgi==0.45b0 in /opt/anaconda3/lib/python3.11/site-packages (from opentelemetry-instrumentation-fastapi>=0.41b0->chromadb) (0.45b0)\n",
      "Requirement already satisfied: opentelemetry-instrumentation==0.45b0 in /opt/anaconda3/lib/python3.11/site-packages (from opentelemetry-instrumentation-fastapi>=0.41b0->chromadb) (0.45b0)\n",
      "Requirement already satisfied: opentelemetry-semantic-conventions==0.45b0 in /opt/anaconda3/lib/python3.11/site-packages (from opentelemetry-instrumentation-fastapi>=0.41b0->chromadb) (0.45b0)\n",
      "Requirement already satisfied: opentelemetry-util-http==0.45b0 in /opt/anaconda3/lib/python3.11/site-packages (from opentelemetry-instrumentation-fastapi>=0.41b0->chromadb) (0.45b0)\n",
      "Requirement already satisfied: setuptools>=16.0 in /opt/anaconda3/lib/python3.11/site-packages (from opentelemetry-instrumentation==0.45b0->opentelemetry-instrumentation-fastapi>=0.41b0->chromadb) (68.2.2)\n",
      "Requirement already satisfied: wrapt<2.0.0,>=1.0.0 in /opt/anaconda3/lib/python3.11/site-packages (from opentelemetry-instrumentation==0.45b0->opentelemetry-instrumentation-fastapi>=0.41b0->chromadb) (1.14.1)\n",
      "Requirement already satisfied: asgiref~=3.0 in /opt/anaconda3/lib/python3.11/site-packages (from opentelemetry-instrumentation-asgi==0.45b0->opentelemetry-instrumentation-fastapi>=0.41b0->chromadb) (3.8.1)\n",
      "Requirement already satisfied: monotonic>=1.5 in /opt/anaconda3/lib/python3.11/site-packages (from posthog>=2.4.0->chromadb) (1.6)\n",
      "Requirement already satisfied: backoff>=1.10.0 in /opt/anaconda3/lib/python3.11/site-packages (from posthog>=2.4.0->chromadb) (2.2.1)\n",
      "Requirement already satisfied: annotated-types>=0.4.0 in /opt/anaconda3/lib/python3.11/site-packages (from pydantic>=1.9->chromadb) (0.6.0)\n",
      "Requirement already satisfied: pydantic-core==2.20.1 in /opt/anaconda3/lib/python3.11/site-packages (from pydantic>=1.9->chromadb) (2.20.1)\n",
      "Requirement already satisfied: charset-normalizer<4,>=2 in /opt/anaconda3/lib/python3.11/site-packages (from requests>=2.28->chromadb) (3.3.2)\n",
      "Requirement already satisfied: idna<4,>=2.5 in /opt/anaconda3/lib/python3.11/site-packages (from requests>=2.28->chromadb) (3.4)\n",
      "Requirement already satisfied: huggingface-hub<1.0,>=0.16.4 in /opt/anaconda3/lib/python3.11/site-packages (from tokenizers>=0.13.2->chromadb) (0.23.0)\n",
      "Requirement already satisfied: click<9.0.0,>=7.1.1 in /opt/anaconda3/lib/python3.11/site-packages (from typer>=0.9.0->chromadb) (8.1.7)\n",
      "Requirement already satisfied: h11>=0.8 in /opt/anaconda3/lib/python3.11/site-packages (from uvicorn>=0.18.3->uvicorn[standard]>=0.18.3->chromadb) (0.14.0)\n",
      "Requirement already satisfied: httptools>=0.5.0 in /opt/anaconda3/lib/python3.11/site-packages (from uvicorn[standard]>=0.18.3->chromadb) (0.6.1)\n",
      "Requirement already satisfied: python-dotenv>=0.13 in /opt/anaconda3/lib/python3.11/site-packages (from uvicorn[standard]>=0.18.3->chromadb) (1.0.0)\n",
      "Requirement already satisfied: uvloop!=0.15.0,!=0.15.1,>=0.14.0 in /opt/anaconda3/lib/python3.11/site-packages (from uvicorn[standard]>=0.18.3->chromadb) (0.19.0)\n",
      "Requirement already satisfied: watchfiles>=0.13 in /opt/anaconda3/lib/python3.11/site-packages (from uvicorn[standard]>=0.18.3->chromadb) (0.21.0)\n",
      "Requirement already satisfied: websockets>=10.4 in /opt/anaconda3/lib/python3.11/site-packages (from uvicorn[standard]>=0.18.3->chromadb) (12.0)\n",
      "Requirement already satisfied: cachetools<6.0,>=2.0.0 in /opt/anaconda3/lib/python3.11/site-packages (from google-auth>=1.0.1->kubernetes>=28.1.0->chromadb) (4.2.2)\n",
      "Requirement already satisfied: pyasn1-modules>=0.2.1 in /opt/anaconda3/lib/python3.11/site-packages (from google-auth>=1.0.1->kubernetes>=28.1.0->chromadb) (0.2.8)\n",
      "Requirement already satisfied: rsa<5,>=3.1.4 in /opt/anaconda3/lib/python3.11/site-packages (from google-auth>=1.0.1->kubernetes>=28.1.0->chromadb) (4.9)\n",
      "Requirement already satisfied: filelock in /opt/anaconda3/lib/python3.11/site-packages (from huggingface-hub<1.0,>=0.16.4->tokenizers>=0.13.2->chromadb) (3.13.1)\n",
      "Requirement already satisfied: fsspec>=2023.5.0 in /opt/anaconda3/lib/python3.11/site-packages (from huggingface-hub<1.0,>=0.16.4->tokenizers>=0.13.2->chromadb) (2023.10.0)\n",
      "Requirement already satisfied: zipp>=0.5 in /opt/anaconda3/lib/python3.11/site-packages (from importlib-metadata<=7.0,>=6.0->opentelemetry-api>=1.2.0->chromadb) (3.17.0)\n",
      "Requirement already satisfied: anyio<5,>=3.4.0 in /opt/anaconda3/lib/python3.11/site-packages (from starlette<0.38.0,>=0.37.2->fastapi>=0.95.2->chromadb) (4.2.0)\n",
      "Requirement already satisfied: humanfriendly>=9.1 in /opt/anaconda3/lib/python3.11/site-packages (from coloredlogs->onnxruntime>=1.14.1->chromadb) (10.0)\n",
      "Requirement already satisfied: mpmath>=0.19 in /opt/anaconda3/lib/python3.11/site-packages (from sympy->onnxruntime>=1.14.1->chromadb) (1.3.0)\n",
      "Requirement already satisfied: sniffio>=1.1 in /opt/anaconda3/lib/python3.11/site-packages (from anyio<5,>=3.4.0->starlette<0.38.0,>=0.37.2->fastapi>=0.95.2->chromadb) (1.3.0)\n",
      "Requirement already satisfied: pyasn1<0.5.0,>=0.4.6 in /opt/anaconda3/lib/python3.11/site-packages (from pyasn1-modules>=0.2.1->google-auth>=1.0.1->kubernetes>=28.1.0->chromadb) (0.4.8)\n"
     ]
    }
   ],
   "source": [
    "! pip install chromadb"
   ]
  },
  {
   "cell_type": "code",
   "execution_count": null,
   "metadata": {},
   "outputs": [],
   "source": [
    "from langchain.vectorstores import Chroma"
   ]
  },
  {
   "cell_type": "code",
   "execution_count": null,
   "metadata": {},
   "outputs": [],
   "source": [
    "!rm -rf ./docs/chroma  # remove old database files if any"
   ]
  },
  {
   "cell_type": "code",
   "execution_count": null,
   "metadata": {},
   "outputs": [],
   "source": [
    "persist_directory = 'docs/chroma/'"
   ]
  },
  {
   "cell_type": "code",
   "execution_count": null,
   "metadata": {},
   "outputs": [],
   "source": [
    "vectordb = Chroma.from_documents(\n",
    "    documents=splits,\n",
    "    embedding=embedding,\n",
    "    persist_directory=persist_directory\n",
    ")"
   ]
  },
  {
   "cell_type": "code",
   "execution_count": null,
   "metadata": {},
   "outputs": [
    {
     "name": "stdout",
     "output_type": "stream",
     "text": [
      "262\n"
     ]
    }
   ],
   "source": [
    "print(vectordb._collection.count())"
   ]
  },
  {
   "cell_type": "code",
   "execution_count": null,
   "metadata": {},
   "outputs": [],
   "source": [
    "question = \"Whats is A manageable strategy?\""
   ]
  },
  {
   "cell_type": "code",
   "execution_count": null,
   "metadata": {},
   "outputs": [],
   "source": [
    "docs = vectordb.similarity_search(question,k=5)"
   ]
  },
  {
   "cell_type": "code",
   "execution_count": null,
   "metadata": {},
   "outputs": [
    {
     "name": "stdout",
     "output_type": "stream",
     "text": [
      "262\n"
     ]
    }
   ],
   "source": [
    "print(vectordb._collection.count())"
   ]
  },
  {
   "cell_type": "code",
   "execution_count": null,
   "metadata": {},
   "outputs": [],
   "source": [
    "from langchain_openai import OpenAI\n",
    "from langchain.retrievers import ContextualCompressionRetriever\n",
    "from langchain.retrievers.document_compressors import LLMChainExtractor"
   ]
  },
  {
   "cell_type": "code",
   "execution_count": null,
   "metadata": {},
   "outputs": [],
   "source": [
    "def pretty_print_docs(docs):\n",
    "    print(f\"\\n{'-' * 100}\\n\".join([f\"Document {i+1}:\\n\\n\" + d.page_content for i, d in enumerate(docs)]))\n"
   ]
  },
  {
   "cell_type": "code",
   "execution_count": null,
   "metadata": {},
   "outputs": [],
   "source": [
    "# Wrap our vectorstore\n",
    "llm = OpenAI(temperature=0, model=\"gpt-3.5-turbo-instruct\")\n",
    "compressor = LLMChainExtractor.from_llm(llm)"
   ]
  },
  {
   "cell_type": "code",
   "execution_count": null,
   "metadata": {},
   "outputs": [],
   "source": [
    "compression_retriever = ContextualCompressionRetriever(\n",
    "   base_compressor=compressor,\n",
    "    base_retriever=vectordb.as_retriever(search_type=\"mmr\")\n",
    ")"
   ]
  },
  {
   "cell_type": "code",
   "execution_count": null,
   "metadata": {},
   "outputs": [
    {
     "name": "stdout",
     "output_type": "stream",
     "text": [
      "Document 1:\n",
      "\n",
      "A manageable strategy\n"
     ]
    }
   ],
   "source": [
    "compressed_docs = compression_retriever.invoke(question)\n",
    "pretty_print_docs(compressed_docs)\n"
   ]
  },
  {
   "cell_type": "code",
   "execution_count": null,
   "metadata": {},
   "outputs": [],
   "source": [
    "from langchain.chains import RetrievalQA"
   ]
  },
  {
   "cell_type": "code",
   "execution_count": null,
   "metadata": {},
   "outputs": [],
   "source": [
    "from langchain.prompts import PromptTemplate\n",
    "\n",
    "# Build prompt\n",
    "template = \"\"\"Use the following pieces of context to answer the question at the end. If you don't know the answer, just say that you don't know, don't try to make up an answer. Use three sentences maximum. Keep the answer as concise as possible. Always say \"thanks for asking!\" at the end of the answer. \n",
    "{context}\n",
    "Question: {question}\n",
    "Helpful Answer:\"\"\"\n",
    "QA_CHAIN_PROMPT = PromptTemplate.from_template(template)\n"
   ]
  },
  {
   "cell_type": "code",
   "execution_count": null,
   "metadata": {},
   "outputs": [],
   "source": []
  },
  {
   "cell_type": "code",
   "execution_count": null,
   "metadata": {},
   "outputs": [],
   "source": [
    "qa_chain_mr = RetrievalQA.from_chain_type(\n",
    "    llm,\n",
    "    retriever=vectordb.as_retriever(),\n",
    "    chain_type=\"refine\"\n",
    ")"
   ]
  },
  {
   "cell_type": "code",
   "execution_count": null,
   "metadata": {},
   "outputs": [],
   "source": [
    "result = qa_chain_mr.invoke({\"query\": question})"
   ]
  },
  {
   "cell_type": "code",
   "execution_count": null,
   "metadata": {},
   "outputs": [
    {
     "data": {
      "text/plain": [
       "'In the context of web design and development, a manageable strategy involves breaking down tasks into smaller, more manageable chunks to adapt and evolve the design system over time. It is crucial to establish a clear governance plan to address any issues or challenges that may arise, such as when existing patterns do not work for specific applications. By having protocols in place to modify patterns, recommend alternative solutions, or create new patterns when needed, the design system can remain flexible and responsive to user needs. This approach ensures that the design system continues to be a helpful and valuable tool for designers and developers.'"
      ]
     },
     "execution_count": 31,
     "metadata": {},
     "output_type": "execute_result"
    }
   ],
   "source": [
    "result[\"result\"]"
   ]
  },
  {
   "cell_type": "code",
   "execution_count": null,
   "metadata": {},
   "outputs": [],
   "source": [
    "from langchain.memory import ConversationBufferMemory\n",
    "memory = ConversationBufferMemory(\n",
    "    memory_key=\"chat_history\",\n",
    "    return_messages=True\n",
    ")"
   ]
  },
  {
   "cell_type": "code",
   "execution_count": null,
   "metadata": {},
   "outputs": [],
   "source": [
    "from langchain.chains import ConversationalRetrievalChain\n",
    "retriever=vectordb.as_retriever()\n",
    "qa = ConversationalRetrievalChain.from_llm(\n",
    "    llm,\n",
    "    retriever=retriever,\n",
    "    memory=memory\n",
    ")"
   ]
  },
  {
   "cell_type": "code",
   "execution_count": null,
   "metadata": {},
   "outputs": [],
   "source": [
    "result = qa.invoke({\"question\": question})"
   ]
  },
  {
   "cell_type": "code",
   "execution_count": null,
   "metadata": {},
   "outputs": [
    {
     "data": {
      "text/plain": [
       "'A manageable strategy, in the context of the text provided, refers to the approach organizations are taking to address the challenges posed by the multi-device universe in web design. It involves breaking down the responsibilities of ensuring web experiences work well across various devices into smaller, more manageable tasks. This strategy aims to help maintain sanity and efficiency in dealing with the complexities of designing for different devices.'"
      ]
     },
     "execution_count": 35,
     "metadata": {},
     "output_type": "execute_result"
    }
   ],
   "source": [
    "result['answer']"
   ]
  },
  {
   "cell_type": "code",
   "execution_count": null,
   "metadata": {},
   "outputs": [],
   "source": [
    "question = \"why A manageable strategy needed?\"\n",
    "result = qa.invoke({\"question\": question})"
   ]
  },
  {
   "cell_type": "code",
   "execution_count": null,
   "metadata": {},
   "outputs": [
    {
     "data": {
      "text/plain": [
       "'A manageable strategy is needed in addressing the challenges posed by the multi-device universe in web design because the web landscape is continuously evolving with new devices and technologies. Designing for a wide range of devices such as smartphones, tablets, phablets, netbooks, notebooks, desktops, TVs, game consoles, and more requires breaking down responsibilities into smaller, more manageable tasks. This approach helps maintain sanity and efficiency in creating web experiences that look and function beautifully across various devices and screen sizes. Additionally, organizations are realizing that continuously overhauling their websites every few years is not an optimal solution in this rapidly changing digital environment.'"
      ]
     },
     "execution_count": 37,
     "metadata": {},
     "output_type": "execute_result"
    }
   ],
   "source": [
    "result['answer']"
   ]
  }
 ],
 "metadata": {
  "kernelspec": {
   "display_name": "mykernel",
   "language": "python",
   "name": "mykernel"
  }
 },
 "nbformat": 4,
 "nbformat_minor": 2
}
